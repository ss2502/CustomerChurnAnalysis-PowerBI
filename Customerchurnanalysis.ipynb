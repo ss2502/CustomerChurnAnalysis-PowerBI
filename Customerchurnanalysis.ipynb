{
 "cells": [
  {
   "cell_type": "code",
   "execution_count": 1,
   "id": "6d1ffc6c-2f2e-4c8c-9539-94795c93bda8",
   "metadata": {
    "tags": []
   },
   "outputs": [],
   "source": [
    "import pandas as pd\n",
    "from sklearn.cluster import KMeans\n",
    "from sklearn.preprocessing import StandardScaler\n",
    "import matplotlib.pyplot as plt\n",
    "from mpl_toolkits.mplot3d import Axes3D\n",
    "from datetime import datetime, timedelta"
   ]
  },
  {
   "cell_type": "code",
   "execution_count": 2,
   "id": "dbe7b746-62d3-444e-a915-204ff877bb51",
   "metadata": {
    "tags": []
   },
   "outputs": [],
   "source": [
    "df = pd.read_csv(\"data.csv\", encoding='ISO-8859-1')\n"
   ]
  },
  {
   "cell_type": "code",
   "execution_count": 3,
   "id": "e91fcf1b-eb6b-4e95-9843-a9b5f5e7592f",
   "metadata": {
    "tags": []
   },
   "outputs": [
    {
     "data": {
      "text/html": [
       "<div>\n",
       "<style scoped>\n",
       "    .dataframe tbody tr th:only-of-type {\n",
       "        vertical-align: middle;\n",
       "    }\n",
       "\n",
       "    .dataframe tbody tr th {\n",
       "        vertical-align: top;\n",
       "    }\n",
       "\n",
       "    .dataframe thead th {\n",
       "        text-align: right;\n",
       "    }\n",
       "</style>\n",
       "<table border=\"1\" class=\"dataframe\">\n",
       "  <thead>\n",
       "    <tr style=\"text-align: right;\">\n",
       "      <th></th>\n",
       "      <th>InvoiceNo</th>\n",
       "      <th>StockCode</th>\n",
       "      <th>Description</th>\n",
       "      <th>Quantity</th>\n",
       "      <th>InvoiceDate</th>\n",
       "      <th>UnitPrice</th>\n",
       "      <th>CustomerID</th>\n",
       "      <th>Country</th>\n",
       "    </tr>\n",
       "  </thead>\n",
       "  <tbody>\n",
       "    <tr>\n",
       "      <th>0</th>\n",
       "      <td>536365</td>\n",
       "      <td>85123A</td>\n",
       "      <td>WHITE HANGING HEART T-LIGHT HOLDER</td>\n",
       "      <td>6</td>\n",
       "      <td>12/1/2010 8:26</td>\n",
       "      <td>2.55</td>\n",
       "      <td>17850.0</td>\n",
       "      <td>United Kingdom</td>\n",
       "    </tr>\n",
       "    <tr>\n",
       "      <th>1</th>\n",
       "      <td>536365</td>\n",
       "      <td>71053</td>\n",
       "      <td>WHITE METAL LANTERN</td>\n",
       "      <td>6</td>\n",
       "      <td>12/1/2010 8:26</td>\n",
       "      <td>3.39</td>\n",
       "      <td>17850.0</td>\n",
       "      <td>United Kingdom</td>\n",
       "    </tr>\n",
       "    <tr>\n",
       "      <th>2</th>\n",
       "      <td>536365</td>\n",
       "      <td>84406B</td>\n",
       "      <td>CREAM CUPID HEARTS COAT HANGER</td>\n",
       "      <td>8</td>\n",
       "      <td>12/1/2010 8:26</td>\n",
       "      <td>2.75</td>\n",
       "      <td>17850.0</td>\n",
       "      <td>United Kingdom</td>\n",
       "    </tr>\n",
       "    <tr>\n",
       "      <th>3</th>\n",
       "      <td>536365</td>\n",
       "      <td>84029G</td>\n",
       "      <td>KNITTED UNION FLAG HOT WATER BOTTLE</td>\n",
       "      <td>6</td>\n",
       "      <td>12/1/2010 8:26</td>\n",
       "      <td>3.39</td>\n",
       "      <td>17850.0</td>\n",
       "      <td>United Kingdom</td>\n",
       "    </tr>\n",
       "    <tr>\n",
       "      <th>4</th>\n",
       "      <td>536365</td>\n",
       "      <td>84029E</td>\n",
       "      <td>RED WOOLLY HOTTIE WHITE HEART.</td>\n",
       "      <td>6</td>\n",
       "      <td>12/1/2010 8:26</td>\n",
       "      <td>3.39</td>\n",
       "      <td>17850.0</td>\n",
       "      <td>United Kingdom</td>\n",
       "    </tr>\n",
       "  </tbody>\n",
       "</table>\n",
       "</div>"
      ],
      "text/plain": [
       "  InvoiceNo StockCode                          Description  Quantity  \\\n",
       "0    536365    85123A   WHITE HANGING HEART T-LIGHT HOLDER         6   \n",
       "1    536365     71053                  WHITE METAL LANTERN         6   \n",
       "2    536365    84406B       CREAM CUPID HEARTS COAT HANGER         8   \n",
       "3    536365    84029G  KNITTED UNION FLAG HOT WATER BOTTLE         6   \n",
       "4    536365    84029E       RED WOOLLY HOTTIE WHITE HEART.         6   \n",
       "\n",
       "      InvoiceDate  UnitPrice  CustomerID         Country  \n",
       "0  12/1/2010 8:26       2.55     17850.0  United Kingdom  \n",
       "1  12/1/2010 8:26       3.39     17850.0  United Kingdom  \n",
       "2  12/1/2010 8:26       2.75     17850.0  United Kingdom  \n",
       "3  12/1/2010 8:26       3.39     17850.0  United Kingdom  \n",
       "4  12/1/2010 8:26       3.39     17850.0  United Kingdom  "
      ]
     },
     "execution_count": 3,
     "metadata": {},
     "output_type": "execute_result"
    }
   ],
   "source": [
    "df.head()"
   ]
  },
  {
   "cell_type": "code",
   "execution_count": 5,
   "id": "ce3aadea-c475-4fd6-9173-66e88fffbdd5",
   "metadata": {
    "tags": []
   },
   "outputs": [],
   "source": [
    "df = pd.DataFrame(df)"
   ]
  },
  {
   "cell_type": "code",
   "execution_count": 6,
   "id": "a10fe452-1c9a-474c-9672-f001db95d677",
   "metadata": {
    "tags": []
   },
   "outputs": [],
   "source": [
    "# Convert 'InvoiceDate' to datetime format\n",
    "df['InvoiceDate'] = pd.to_datetime(df['InvoiceDate'], format='%m/%d/%Y %H:%M')"
   ]
  },
  {
   "cell_type": "code",
   "execution_count": 7,
   "id": "d461a031-3d37-4e66-960d-37d4e44cf2a6",
   "metadata": {
    "tags": []
   },
   "outputs": [],
   "source": [
    "# Calculate the last purchase date for each customer\n",
    "last_purchase_date = df.groupby('CustomerID')['InvoiceDate'].max()\n"
   ]
  },
  {
   "cell_type": "code",
   "execution_count": 8,
   "id": "88d3a478-f0c9-4017-974c-aec9fd834130",
   "metadata": {
    "tags": []
   },
   "outputs": [],
   "source": [
    "# Set the current date as of the latest invoice date in the dataset\n",
    "current_date = last_purchase_date.max()\n"
   ]
  },
  {
   "cell_type": "code",
   "execution_count": 9,
   "id": "936ef11a-17bb-443a-aab6-ffbe0f117886",
   "metadata": {
    "tags": []
   },
   "outputs": [],
   "source": [
    "# Define the churn threshold (e.g., 90 days)\n",
    "churn_threshold = timedelta(days=90)"
   ]
  },
  {
   "cell_type": "code",
   "execution_count": 10,
   "id": "556d1785-b92b-401a-95bd-6ac99c00fe63",
   "metadata": {
    "tags": []
   },
   "outputs": [],
   "source": [
    "# Identify churned customers\n",
    "churned_customers = last_purchase_date[last_purchase_date < (current_date - churn_threshold)]"
   ]
  },
  {
   "cell_type": "code",
   "execution_count": 11,
   "id": "823ce4a7-b40f-461b-9ff4-089d90dc9703",
   "metadata": {
    "tags": []
   },
   "outputs": [
    {
     "name": "stdout",
     "output_type": "stream",
     "text": [
      "CustomerID\n",
      "12346.0   2011-01-18 10:17:00\n",
      "12350.0   2011-02-02 16:01:00\n",
      "12353.0   2011-05-19 17:47:00\n",
      "12354.0   2011-04-21 13:11:00\n",
      "12355.0   2011-05-09 13:49:00\n",
      "                  ...        \n",
      "18262.0   2011-07-22 16:04:00\n",
      "18268.0   2011-07-28 19:13:00\n",
      "18269.0   2010-12-16 15:39:00\n",
      "18280.0   2011-03-07 09:52:00\n",
      "18281.0   2011-06-12 10:53:00\n",
      "Name: InvoiceDate, Length: 1454, dtype: datetime64[ns]\n"
     ]
    }
   ],
   "source": [
    "print(churned_customers)"
   ]
  },
  {
   "cell_type": "code",
   "execution_count": 12,
   "id": "5c09d6f9-fe1b-4c5c-9755-e1d2b1fc4be2",
   "metadata": {
    "tags": []
   },
   "outputs": [],
   "source": [
    "# Create a new column 'Churned' in the DataFrame\n",
    "df['Churned'] = df['CustomerID'].isin(churned_customers.index)"
   ]
  },
  {
   "cell_type": "code",
   "execution_count": 13,
   "id": "b60f4e09-f0a4-4b99-a9d6-bdb7e6e05a04",
   "metadata": {
    "tags": []
   },
   "outputs": [
    {
     "name": "stdout",
     "output_type": "stream",
     "text": [
      "DataFrame with 'Churned' Column:\n",
      "       InvoiceNo StockCode                          Description  Quantity  \\\n",
      "0         536365    85123A   WHITE HANGING HEART T-LIGHT HOLDER         6   \n",
      "1         536365     71053                  WHITE METAL LANTERN         6   \n",
      "2         536365    84406B       CREAM CUPID HEARTS COAT HANGER         8   \n",
      "3         536365    84029G  KNITTED UNION FLAG HOT WATER BOTTLE         6   \n",
      "4         536365    84029E       RED WOOLLY HOTTIE WHITE HEART.         6   \n",
      "...          ...       ...                                  ...       ...   \n",
      "541904    581587     22613          PACK OF 20 SPACEBOY NAPKINS        12   \n",
      "541905    581587     22899         CHILDREN'S APRON DOLLY GIRL          6   \n",
      "541906    581587     23254        CHILDRENS CUTLERY DOLLY GIRL          4   \n",
      "541907    581587     23255      CHILDRENS CUTLERY CIRCUS PARADE         4   \n",
      "541908    581587     22138        BAKING SET 9 PIECE RETROSPOT          3   \n",
      "\n",
      "               InvoiceDate  UnitPrice  CustomerID         Country  Churned  \n",
      "0      2010-12-01 08:26:00       2.55     17850.0  United Kingdom     True  \n",
      "1      2010-12-01 08:26:00       3.39     17850.0  United Kingdom     True  \n",
      "2      2010-12-01 08:26:00       2.75     17850.0  United Kingdom     True  \n",
      "3      2010-12-01 08:26:00       3.39     17850.0  United Kingdom     True  \n",
      "4      2010-12-01 08:26:00       3.39     17850.0  United Kingdom     True  \n",
      "...                    ...        ...         ...             ...      ...  \n",
      "541904 2011-12-09 12:50:00       0.85     12680.0          France    False  \n",
      "541905 2011-12-09 12:50:00       2.10     12680.0          France    False  \n",
      "541906 2011-12-09 12:50:00       4.15     12680.0          France    False  \n",
      "541907 2011-12-09 12:50:00       4.15     12680.0          France    False  \n",
      "541908 2011-12-09 12:50:00       4.95     12680.0          France    False  \n",
      "\n",
      "[541909 rows x 9 columns]\n"
     ]
    }
   ],
   "source": [
    "print(\"DataFrame with 'Churned' Column:\")\n",
    "print(df)"
   ]
  },
  {
   "cell_type": "code",
   "execution_count": 14,
   "id": "b6f04e35-4e1e-4afa-94ea-096989643746",
   "metadata": {
    "tags": []
   },
   "outputs": [
    {
     "name": "stdout",
     "output_type": "stream",
     "text": [
      "Churned and Non-Churned Customer Counts:\n",
      "Churned     False  True \n",
      "CustomerID              \n",
      "12346.0         0      2\n",
      "12347.0       182      0\n",
      "12348.0        31      0\n",
      "12349.0        73      0\n",
      "12350.0         0     17\n",
      "...           ...    ...\n",
      "18280.0         0     10\n",
      "18281.0         0      7\n",
      "18282.0        13      0\n",
      "18283.0       756      0\n",
      "18287.0        70      0\n",
      "\n",
      "[4372 rows x 2 columns]\n"
     ]
    }
   ],
   "source": [
    "# Count True and False values in 'Churned' column for unique CustomerIDs\n",
    "churn_counts = df.groupby('CustomerID')['Churned'].value_counts().unstack(fill_value=0)\n",
    "\n",
    "# Display the counts\n",
    "print(\"Churned and Non-Churned Customer Counts:\")\n",
    "print(churn_counts)"
   ]
  },
  {
   "cell_type": "code",
   "execution_count": 16,
   "id": "1d29f97c-b759-46bd-bc1d-e5b5b9763a0a",
   "metadata": {
    "tags": []
   },
   "outputs": [
    {
     "name": "stdout",
     "output_type": "stream",
     "text": [
      "Number of Unique Customer IDs: 4372\n"
     ]
    }
   ],
   "source": [
    " #Count unique CustomerIDs\n",
    "unique_customer_count = df['CustomerID'].nunique()\n",
    "\n",
    "# Display the count\n",
    "print(\"Number of Unique Customer IDs:\", unique_customer_count)"
   ]
  },
  {
   "cell_type": "code",
   "execution_count": 19,
   "id": "fc85eea7-f2f2-4aeb-8a00-44b1b0c511d8",
   "metadata": {
    "tags": []
   },
   "outputs": [
    {
     "name": "stdout",
     "output_type": "stream",
     "text": [
      "Total Unique Customers: 4372\n",
      "Churned and Non-Churned Customer Counts for Unique Customer IDs:\n",
      "False    2918\n",
      "True     1454\n",
      "Name: Churned, dtype: int64\n"
     ]
    }
   ],
   "source": [
    "import pandas as pd\n",
    "\n",
    "# Assuming your DataFrame is already loaded into df\n",
    "\n",
    "# Count total unique customers (excluding NaN)\n",
    "total_unique_customers = df['CustomerID'].nunique(dropna=True)\n",
    "\n",
    "# Count churned and non-churned customers for unique customer IDs\n",
    "unique_customer_churn_counts = df.groupby('CustomerID')['Churned'].max().value_counts(dropna=False)\n",
    "\n",
    "# Display the counts\n",
    "print(\"Total Unique Customers:\", total_unique_customers)\n",
    "print(\"Churned and Non-Churned Customer Counts for Unique Customer IDs:\")\n",
    "print(unique_customer_churn_counts)\n"
   ]
  },
  {
   "cell_type": "code",
   "execution_count": 39,
   "id": "b4cc3398-9be9-48d7-bf90-530170a2663c",
   "metadata": {
    "tags": []
   },
   "outputs": [
    {
     "name": "stdout",
     "output_type": "stream",
     "text": [
      "<class 'pandas.core.frame.DataFrame'>\n",
      "RangeIndex: 541909 entries, 0 to 541908\n",
      "Data columns (total 10 columns):\n",
      " #   Column       Non-Null Count   Dtype         \n",
      "---  ------       --------------   -----         \n",
      " 0   InvoiceNo    541909 non-null  object        \n",
      " 1   StockCode    541909 non-null  object        \n",
      " 2   Description  540455 non-null  object        \n",
      " 3   Quantity     541909 non-null  int64         \n",
      " 4   InvoiceDate  541909 non-null  datetime64[ns]\n",
      " 5   UnitPrice    541909 non-null  float64       \n",
      " 6   CustomerID   406829 non-null  float64       \n",
      " 7   Country      541909 non-null  object        \n",
      " 8   Churned      541909 non-null  bool          \n",
      " 9   Segment      4372 non-null    object        \n",
      "dtypes: bool(1), datetime64[ns](1), float64(2), int64(1), object(5)\n",
      "memory usage: 37.7+ MB\n"
     ]
    }
   ],
   "source": [
    "df.info()"
   ]
  },
  {
   "cell_type": "code",
   "execution_count": 54,
   "id": "2fd1f235-2a3d-4386-9916-450d11b0d153",
   "metadata": {
    "tags": []
   },
   "outputs": [],
   "source": [
    "# Drop the 'Segment' column\n",
    "df = df.drop(columns=['Segment'])"
   ]
  },
  {
   "cell_type": "code",
   "execution_count": 58,
   "id": "accf530d-b773-4bc1-971e-77545f202490",
   "metadata": {
    "tags": []
   },
   "outputs": [
    {
     "name": "stderr",
     "output_type": "stream",
     "text": [
      "C:\\Users\\1234\\anaconda3\\Lib\\site-packages\\sklearn\\cluster\\_kmeans.py:1412: FutureWarning: The default value of `n_init` will change from 10 to 'auto' in 1.4. Set the value of `n_init` explicitly to suppress the warning\n",
      "  super()._check_params_vs_input(X, default_n_init=10)\n",
      "C:\\Users\\1234\\anaconda3\\Lib\\site-packages\\sklearn\\cluster\\_kmeans.py:1412: FutureWarning: The default value of `n_init` will change from 10 to 'auto' in 1.4. Set the value of `n_init` explicitly to suppress the warning\n",
      "  super()._check_params_vs_input(X, default_n_init=10)\n",
      "C:\\Users\\1234\\anaconda3\\Lib\\site-packages\\sklearn\\cluster\\_kmeans.py:1412: FutureWarning: The default value of `n_init` will change from 10 to 'auto' in 1.4. Set the value of `n_init` explicitly to suppress the warning\n",
      "  super()._check_params_vs_input(X, default_n_init=10)\n",
      "C:\\Users\\1234\\anaconda3\\Lib\\site-packages\\sklearn\\cluster\\_kmeans.py:1412: FutureWarning: The default value of `n_init` will change from 10 to 'auto' in 1.4. Set the value of `n_init` explicitly to suppress the warning\n",
      "  super()._check_params_vs_input(X, default_n_init=10)\n",
      "C:\\Users\\1234\\anaconda3\\Lib\\site-packages\\sklearn\\cluster\\_kmeans.py:1412: FutureWarning: The default value of `n_init` will change from 10 to 'auto' in 1.4. Set the value of `n_init` explicitly to suppress the warning\n",
      "  super()._check_params_vs_input(X, default_n_init=10)\n",
      "C:\\Users\\1234\\anaconda3\\Lib\\site-packages\\sklearn\\cluster\\_kmeans.py:1412: FutureWarning: The default value of `n_init` will change from 10 to 'auto' in 1.4. Set the value of `n_init` explicitly to suppress the warning\n",
      "  super()._check_params_vs_input(X, default_n_init=10)\n",
      "C:\\Users\\1234\\anaconda3\\Lib\\site-packages\\sklearn\\cluster\\_kmeans.py:1412: FutureWarning: The default value of `n_init` will change from 10 to 'auto' in 1.4. Set the value of `n_init` explicitly to suppress the warning\n",
      "  super()._check_params_vs_input(X, default_n_init=10)\n",
      "C:\\Users\\1234\\anaconda3\\Lib\\site-packages\\sklearn\\cluster\\_kmeans.py:1412: FutureWarning: The default value of `n_init` will change from 10 to 'auto' in 1.4. Set the value of `n_init` explicitly to suppress the warning\n",
      "  super()._check_params_vs_input(X, default_n_init=10)\n",
      "C:\\Users\\1234\\anaconda3\\Lib\\site-packages\\sklearn\\cluster\\_kmeans.py:1412: FutureWarning: The default value of `n_init` will change from 10 to 'auto' in 1.4. Set the value of `n_init` explicitly to suppress the warning\n",
      "  super()._check_params_vs_input(X, default_n_init=10)\n",
      "C:\\Users\\1234\\anaconda3\\Lib\\site-packages\\sklearn\\cluster\\_kmeans.py:1412: FutureWarning: The default value of `n_init` will change from 10 to 'auto' in 1.4. Set the value of `n_init` explicitly to suppress the warning\n",
      "  super()._check_params_vs_input(X, default_n_init=10)\n"
     ]
    },
    {
     "data": {
      "image/png": "[encoded data removed]",
      "text/plain": [
       "<Figure size 640x480 with 1 Axes>"
      ]
     },
     "metadata": {},
     "output_type": "display_data"
    },
    {
     "name": "stderr",
     "output_type": "stream",
     "text": [
      "C:\\Users\\1234\\anaconda3\\Lib\\site-packages\\sklearn\\cluster\\_kmeans.py:1412: FutureWarning: The default value of `n_init` will change from 10 to 'auto' in 1.4. Set the value of `n_init` explicitly to suppress the warning\n",
      "  super()._check_params_vs_input(X, default_n_init=10)\n"
     ]
    },
    {
     "name": "stdout",
     "output_type": "stream",
     "text": [
      "DataFrame with 'Cluster' Column:\n",
      "            Recency  Frequency  Monetary  Cluster\n",
      "CustomerID                                       \n",
      "12346.0        4736          2         1        2\n",
      "12347.0        4413          7      2458        1\n",
      "12348.0        4486          4      2341        1\n",
      "12349.0        4429          1       631        1\n",
      "12350.0        4721          1       197        2\n"
     ]
    }
   ],
   "source": [
    "import pandas as pd\n",
    "from sklearn.cluster import KMeans\n",
    "from sklearn.preprocessing import StandardScaler\n",
    "import matplotlib.pyplot as plt\n",
    "\n",
    "# Assuming your DataFrame is already loaded into df\n",
    "\n",
    "# Calculate Recency, Frequency, and Monetary values for each customer\n",
    "recency = df.groupby('CustomerID')['InvoiceDate'].max()\n",
    "frequency = df.groupby('CustomerID')['InvoiceNo'].nunique()\n",
    "monetary = df.groupby('CustomerID')['Quantity'].sum()\n",
    "\n",
    "# Create a new DataFrame for RFM values\n",
    "rfm_df = pd.DataFrame({\n",
    "    'Recency': recency,\n",
    "    'Frequency': frequency,\n",
    "    'Monetary': monetary\n",
    "})\n",
    "\n",
    "# Handle zero values in 'Frequency' and 'Monetary'\n",
    "rfm_df['Frequency'] = rfm_df['Frequency'].replace(0, 1)\n",
    "rfm_df['Monetary'] = rfm_df['Monetary'].replace(0, 1)\n",
    "\n",
    "# Check and drop rows with missing values in RFM DataFrame\n",
    "rfm_df = rfm_df.dropna(subset=['Recency', 'Frequency', 'Monetary'])\n",
    "\n",
    "# Convert 'Recency' to numeric representation (you can choose a method based on your requirement)\n",
    "rfm_df['Recency'] = (pd.to_datetime('today') - rfm_df['Recency']).dt.days\n",
    "\n",
    "# Standardize the features (important for K-Means)\n",
    "scaler = StandardScaler()\n",
    "rfm_scaled = scaler.fit_transform(rfm_df)\n",
    "\n",
    "# Determine the optimal number of clusters using the Elbow Method\n",
    "wcss = []\n",
    "for i in range(1, 11):\n",
    "    kmeans = KMeans(n_clusters=i, init='k-means++', random_state=42)\n",
    "    kmeans.fit(rfm_scaled)\n",
    "    wcss.append(kmeans.inertia_)\n",
    "\n",
    "# Plot the Elbow Method graph\n",
    "plt.plot(range(1, 11), wcss, marker='o', linestyle='--')\n",
    "plt.title('Elbow Method')\n",
    "plt.xlabel('Number of Clusters')\n",
    "plt.ylabel('WCSS (Within-Cluster Sum of Squares)')\n",
    "plt.show()\n",
    "\n",
    "# Based on the Elbow Method, choose the optimal number of clusters (let's say 3)\n",
    "n_clusters = 3\n",
    "\n",
    "# Apply K-Means clustering\n",
    "kmeans = KMeans(n_clusters=n_clusters, init='k-means++', random_state=42)\n",
    "rfm_df['Cluster'] = kmeans.fit_predict(rfm_scaled)\n",
    "\n",
    "# Display the updated DataFrame with the 'Cluster' column\n",
    "print(\"DataFrame with 'Cluster' Column:\")\n",
    "print(rfm_df.head())\n"
   ]
  },
  {
   "cell_type": "code",
   "execution_count": 59,
   "id": "79cd1bba-3070-41b1-ac07-39ca87fdf047",
   "metadata": {
    "tags": []
   },
   "outputs": [
    {
     "name": "stdout",
     "output_type": "stream",
     "text": [
      "            Recency  Frequency  Monetary  Cluster\n",
      "CustomerID                                       \n",
      "12346.0        4736          2         1        2\n",
      "12347.0        4413          7      2458        1\n",
      "12348.0        4486          4      2341        1\n",
      "12349.0        4429          1       631        1\n",
      "12350.0        4721          1       197        2\n",
      "...             ...        ...       ...      ...\n",
      "18280.0        4688          1        45        2\n",
      "18281.0        4591          1        54        2\n",
      "18282.0        4418          3        98        1\n",
      "18283.0        4414         16      1397        1\n",
      "18287.0        4453          3      1586        1\n",
      "\n",
      "[4372 rows x 4 columns]\n"
     ]
    }
   ],
   "source": [
    "print(rfm_df)"
   ]
  },
  {
   "cell_type": "code",
   "execution_count": 61,
   "id": "343b4056-6947-4dbe-b09c-4237169606a2",
   "metadata": {
    "tags": []
   },
   "outputs": [
    {
     "name": "stdout",
     "output_type": "stream",
     "text": [
      "DataFrame with 'Cluster Name' Column:\n",
      "  InvoiceNo StockCode                          Description  Quantity  \\\n",
      "0    536365    85123A   WHITE HANGING HEART T-LIGHT HOLDER         6   \n",
      "1    536365     71053                  WHITE METAL LANTERN         6   \n",
      "2    536365    84406B       CREAM CUPID HEARTS COAT HANGER         8   \n",
      "3    536365    84029G  KNITTED UNION FLAG HOT WATER BOTTLE         6   \n",
      "4    536365    84029E       RED WOOLLY HOTTIE WHITE HEART.         6   \n",
      "\n",
      "          InvoiceDate  UnitPrice  CustomerID         Country  Churned  \\\n",
      "0 2010-12-01 08:26:00       2.55     17850.0  United Kingdom     True   \n",
      "1 2010-12-01 08:26:00       3.39     17850.0  United Kingdom     True   \n",
      "2 2010-12-01 08:26:00       2.75     17850.0  United Kingdom     True   \n",
      "3 2010-12-01 08:26:00       3.39     17850.0  United Kingdom     True   \n",
      "4 2010-12-01 08:26:00       3.39     17850.0  United Kingdom     True   \n",
      "\n",
      "   Cluster         Cluster Name  \n",
      "0      2.0  Low-Value Customers  \n",
      "1      2.0  Low-Value Customers  \n",
      "2      2.0  Low-Value Customers  \n",
      "3      2.0  Low-Value Customers  \n",
      "4      2.0  Low-Value Customers  \n"
     ]
    }
   ],
   "source": [
    "# Merge df with rfm_df on 'CustomerID'\n",
    "df = pd.merge(df, rfm_df[['Cluster', 'Cluster Name']], left_on='CustomerID', right_index=True, how='left')\n",
    "\n",
    "# Display the updated DataFrame with the 'Cluster Name' column\n",
    "print(\"DataFrame with 'Cluster Name' Column:\")\n",
    "print(df.head())\n"
   ]
  },
  {
   "cell_type": "code",
   "execution_count": 62,
   "id": "e8a17022-c18f-4dd1-9285-d7b774e48498",
   "metadata": {
    "tags": []
   },
   "outputs": [],
   "source": [
    "# Save the DataFrame to a CSV file for importing into Power BI\n",
    "df.to_csv('customer_segmentation1.csv', index=False)"
   ]
  },
  {
   "cell_type": "code",
   "execution_count": null,
   "id": "1da4e90e-c727-49dc-8464-d09a8d618c2c",
   "metadata": {},
   "outputs": [],
   "source": []
  }
 ],
 "metadata": {
  "kernelspec": {
   "display_name": "Python 3 (ipykernel)",
   "language": "python",
   "name": "python3"
  },
  "language_info": {
   "codemirror_mode": {
    "name": "ipython",
    "version": 3
   },
   "file_extension": ".py",
   "mimetype": "text/x-python",
   "name": "python",
   "nbconvert_exporter": "python",
   "pygments_lexer": "ipython3",
   "version": "3.11.4"
  }
 },
 "nbformat": 4,
 "nbformat_minor": 5
}
